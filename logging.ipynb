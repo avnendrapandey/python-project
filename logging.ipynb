{
 "cells": [
  {
   "cell_type": "code",
   "execution_count": 2,
   "id": "7b5a1c02",
   "metadata": {},
   "outputs": [],
   "source": [
    "import logging"
   ]
  },
  {
   "cell_type": "code",
   "execution_count": 3,
   "id": "52249480",
   "metadata": {},
   "outputs": [
    {
     "name": "stderr",
     "output_type": "stream",
     "text": [
      "DEBUG:root:this is a debug message\n",
      "INFO:root:this is a info message\n",
      "WARNING:root:this is a warning message\n",
      "ERROR:root:this is a error message\n",
      "CRITICAL:root:this is a critical message\n"
     ]
    }
   ],
   "source": [
    "##ogging is a crucial ascept of any application providing a way to track events ,error and operational information.\n",
    "#configure the basic logging  settings\n",
    "logging.basicConfig(level=logging.DEBUG)\n",
    "force=True\n",
    "\n",
    "#log message with different severity levels\n",
    "logging.debug(\"this is a debug message\")\n",
    "logging.info(\"this is a info message\")\n",
    "logging.warning(\"this is a warning message\")\n",
    "logging.error(\"this is a error message\")\n",
    "logging.critical(\"this is a critical message\")"
   ]
  },
  {
   "cell_type": "code",
   "execution_count": 4,
   "id": "38c4a926",
   "metadata": {},
   "outputs": [],
   "source": [
    "#configuring logging\n",
    "logging.basicConfig(\n",
    "    filename='app.log',\n",
    "    filemode='w',\n",
    "    level=logging.DEBUG,\n",
    "    format='%(asctime)s-%(name)s-%(levelname)s-%(message)s',\n",
    "    datefmt='%y-%m-%d %H:%M:%S',\n",
    "    force=True\n",
    "\n",
    ")\n",
    "#log message with different severity levels\n",
    "logging.debug(\"this is a debug message\")\n",
    "logging.info(\"this is a info message\")\n",
    "logging.warning(\"this is a warning message\")\n",
    "logging.error(\"this is a error message\")\n",
    "logging.critical(\"this is a critical message\")\n",
    "\n"
   ]
  }
 ],
 "metadata": {
  "kernelspec": {
   "display_name": "base",
   "language": "python",
   "name": "python3"
  },
  "language_info": {
   "codemirror_mode": {
    "name": "ipython",
    "version": 3
   },
   "file_extension": ".py",
   "mimetype": "text/x-python",
   "name": "python",
   "nbconvert_exporter": "python",
   "pygments_lexer": "ipython3",
   "version": "3.12.7"
  }
 },
 "nbformat": 4,
 "nbformat_minor": 5
}
