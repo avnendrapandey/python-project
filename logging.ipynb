{
 "cells": [
  {
   "cell_type": "code",
   "execution_count": 2,
   "id": "7b5a1c02",
   "metadata": {},
   "outputs": [],
   "source": [
    "import logging"
   ]
  },
  {
   "cell_type": "code",
   "execution_count": 3,
   "id": "52249480",
   "metadata": {},
   "outputs": [
    {
     "name": "stderr",
     "output_type": "stream",
     "text": [
      "DEBUG:root:this is a debug message\n",
      "INFO:root:this is a info message\n",
      "WARNING:root:this is a warning message\n",
      "ERROR:root:this is a error message\n",
      "CRITICAL:root:this is a critical message\n"
     ]
    }
   ],
   "source": [
    "##ogging is a crucial ascept of any application providing a way to track events ,error and operational information.\n",
    "#configure the basic logging  settings\n",
    "logging.basicConfig(level=logging.DEBUG)\n",
    "force=True\n",
    "\n",
    "#log message with different severity levels\n",
    "logging.debug(\"this is a debug message\")\n",
    "logging.info(\"this is a info message\")\n",
    "logging.warning(\"this is a warning message\")\n",
    "logging.error(\"this is a error message\")\n",
    "logging.critical(\"this is a critical message\")"
   ]
  },
  {
   "cell_type": "code",
   "execution_count": 5,
   "id": "38c4a926",
   "metadata": {},
   "outputs": [
    {
     "name": "stderr",
     "output_type": "stream",
     "text": [
      "25-09-11 14:24:27-root-DEBUG-this is a debug message\n",
      "25-09-11 14:24:27-root-INFO-this is a info message\n",
      "25-09-11 14:24:27-root-WARNING-this is a warning message\n",
      "25-09-11 14:24:27-root-ERROR-this is a error message\n",
      "25-09-11 14:24:27-root-CRITICAL-this is a critical message\n"
     ]
    }
   ],
   "source": [
    "#configuring logging\n",
    "logging.basicConfig(\n",
    "    #filename='app.log',\n",
    "    #filemode='w',\n",
    "    level=logging.DEBUG,\n",
    "    format='%(asctime)s-%(name)s-%(levelname)s-%(message)s',\n",
    "    datefmt='%y-%m-%d %H:%M:%S',\n",
    "    force=True\n",
    "\n",
    ")\n",
    "#log message with different severity levels\n",
    "logging.debug(\"this is a debug message\")\n",
    "logging.info(\"this is a info message\")\n",
    "logging.warning(\"this is a warning message\")\n",
    "logging.error(\"this is a error message\")\n",
    "logging.critical(\"this is a critical message\")\n",
    "\n"
   ]
  },
  {
   "cell_type": "code",
   "execution_count": 1,
   "id": "3be68c8a",
   "metadata": {},
   "outputs": [],
   "source": [
    "#logging with multiple loggers\n",
    "import logging\n",
    "logger1=logging.getLogger(\"module1\")\n",
    "logger1.setLevel(logging.DEBUG)\n",
    "\n",
    "##create a logger for module2\n",
    "logger2=logging.getLogger(\"module2\")\n",
    "logger2.setLevel(logging.WARNING)\n",
    "\n",
    "#configure logging setting\n",
    "logging.basicConfig(\n",
    "    #filename='app.log',\n",
    "    #filemode='w',\n",
    "    level=logging.DEBUG,\n",
    "    format='%(asctime)s-%(name)s-%(levelname)s-%(message)s',\n",
    "    datefmt='%y-%m-%d %H:%M:%S',\n",
    "    force=True\n",
    "\n",
    ")\n",
    "\n"
   ]
  },
  {
   "cell_type": "code",
   "execution_count": 2,
   "id": "2feac68c",
   "metadata": {},
   "outputs": [
    {
     "name": "stderr",
     "output_type": "stream",
     "text": [
      "25-09-13 13:20:18-module1-DEBUG-this is a debug message for module1\n",
      "25-09-13 13:20:18-module2-WARNING-this is a warning message for module2\n",
      "25-09-13 13:20:18-module2-ERROR-this is a error message\n"
     ]
    }
   ],
   "source": [
    "logger1.debug(\"this is a debug message for module1\")\n",
    "logger2.warning(\"this is a warning message for module2\")\n",
    "logger2.error(\"this is a error message\")"
   ]
  }
 ],
 "metadata": {
  "kernelspec": {
   "display_name": "base",
   "language": "python",
   "name": "python3"
  },
  "language_info": {
   "codemirror_mode": {
    "name": "ipython",
    "version": 3
   },
   "file_extension": ".py",
   "mimetype": "text/x-python",
   "name": "python",
   "nbconvert_exporter": "python",
   "pygments_lexer": "ipython3",
   "version": "3.12.7"
  }
 },
 "nbformat": 4,
 "nbformat_minor": 5
}
